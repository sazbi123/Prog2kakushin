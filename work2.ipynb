{
  "nbformat": 4,
  "nbformat_minor": 0,
  "metadata": {
    "colab": {
      "provenance": [],
      "authorship_tag": "ABX9TyMXua6sEP5taq786RZQG+2/",
      "include_colab_link": true
    },
    "kernelspec": {
      "name": "python3",
      "display_name": "Python 3"
    },
    "language_info": {
      "name": "python"
    }
  },
  "cells": [
    {
      "cell_type": "markdown",
      "metadata": {
        "id": "view-in-github",
        "colab_type": "text"
      },
      "source": [
        "<a href=\"https://colab.research.google.com/github/sazbi123/Prog2kakushin/blob/main/work2.ipynb\" target=\"_parent\"><img src=\"https://colab.research.google.com/assets/colab-badge.svg\" alt=\"Open In Colab\"/></a>"
      ]
    },
    {
      "cell_type": "code",
      "execution_count": 24,
      "metadata": {
        "id": "abImi3Cf-ZQX",
        "colab": {
          "base_uri": "https://localhost:8080/"
        },
        "outputId": "19d989ac-dedc-48d2-ff41-74c917ee8c1b"
      },
      "outputs": [
        {
          "output_type": "stream",
          "name": "stdout",
          "text": [
            "先攻：f,後攻：sf\n",
            "[[1. 1. 1.]\n",
            " [1. 1. 1.]\n",
            " [1. 1. 1.]]\n",
            "your turn\n",
            "00\n",
            "0\n",
            "2.0\n",
            "2.0\n",
            "[[0. 1. 1.]\n",
            " [1. 1. 1.]\n",
            " [1. 1. 1.]]\n",
            "your turn\n",
            "0\n",
            "1\n",
            "1.0\n",
            "1.0\n",
            "[[0. 0. 1.]\n",
            " [1. 1. 1.]\n",
            " [1. 1. 1.]]\n",
            "your turn\n",
            "0\n",
            "2\n",
            "0.0\n",
            "0.0\n"
          ]
        }
      ],
      "source": [
        "#[place[0]][place[1]]==>y*x\n",
        "import numpy as np\n",
        "def game(turn):\n",
        "  row_sum=0\n",
        "  line_sum=0\n",
        "  a=np.ones((3,3))\n",
        "  if turn=='f':\n",
        "\n",
        "    print(a)\n",
        "    while True:\n",
        "      print('your turn')\n",
        "      place=[int(input()),int(input())]\n",
        "      a[place[0]][place[1]]='0'\n",
        "      for x in range(3):\n",
        "        row_sum=row_sum+a[place[0]][x]\n",
        "      print(row_sum)\n",
        "      for y in range(3):\n",
        "        line_sum=line_sum+a[y][place[1]]\n",
        "      print(row_sum)\n",
        "      if line_sum==0 or row_sum==0:\n",
        "        print('you win!')\n",
        "        break\n",
        "      row_sum=0\n",
        "      line_sum=0\n",
        "      print(a)\n",
        "f_or_s=input('先攻：f,後攻：s')\n",
        "game(f_or_s)\n"
      ]
    }
  ]
}